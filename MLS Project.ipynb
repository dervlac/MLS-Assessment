{
 "cells": [
  {
   "cell_type": "markdown",
   "metadata": {},
   "source": [
    "# Machine Learning & Statistics 2020 Project\n",
    "\n",
    "### Power Production Predictions\n",
    "\n",
    "***"
   ]
  },
  {
   "cell_type": "code",
   "execution_count": 1,
   "metadata": {},
   "outputs": [],
   "source": [
    "# for neural networks.\n",
    "import tensorflow.keras as kr\n",
    "# for numerical arrays\n",
    "import numpy as np\n",
    "# for data frames.\n",
    "import pandas as pd\n",
    "# for plotting\n",
    "import matplotlib.pyplot as plt\n",
    "# for test and train datasets\n",
    "import sklearn.model_selection as mod"
   ]
  },
  {
   "cell_type": "code",
   "execution_count": 2,
   "metadata": {},
   "outputs": [],
   "source": [
    "# Plot style.\n",
    "plt.style.use(\"bmh\")\n",
    "# Plot size.\n",
    "plt.rcParams['figure.figsize'] = [14, 8]"
   ]
  },
  {
   "cell_type": "code",
   "execution_count": 3,
   "metadata": {},
   "outputs": [],
   "source": [
    "df = pd.read_csv(\"https://raw.githubusercontent.com/ianmcloughlin/2020A-machstat-project/master/dataset/powerproduction.csv\")"
   ]
  },
  {
   "cell_type": "code",
   "execution_count": 4,
   "metadata": {},
   "outputs": [],
   "source": [
    "data = df.drop([208,340,404,456,490,491,492,493,494,495,496,497,498,499], axis=0)\n",
    "data.reset_index(inplace=True)"
   ]
  },
  {
   "cell_type": "code",
   "execution_count": 5,
   "metadata": {},
   "outputs": [],
   "source": [
    "x_train, x_test, y_train, y_test = mod.train_test_split(data['speed'], data['power'], test_size=0.2)"
   ]
  },
  {
   "cell_type": "code",
   "execution_count": 12,
   "metadata": {},
   "outputs": [],
   "source": [
    "# from topic 7 in the lectures\n",
    "model = kr.models.Sequential()\n",
    "model.add(kr.layers.Dense(50, input_shape=(1,), activation='sigmoid', kernel_initializer=\"random_normal\", bias_initializer=\"zeros\"))\n",
    "model.add(kr.layers.Dense(1, activation='linear', kernel_initializer=\"ones\", bias_initializer=\"zeros\"))\n",
    "model.compile(kr.optimizers.Adam(lr=0.001), loss='mean_squared_error')"
   ]
  },
  {
   "cell_type": "code",
   "execution_count": 18,
   "metadata": {
    "scrolled": true
   },
   "outputs": [
    {
     "name": "stdout",
     "output_type": "stream",
     "text": [
      "Epoch 1/100\n",
      "16/16 [==============================] - 2s 5ms/step - loss: 16.8253\n",
      "Epoch 2/100\n",
      "16/16 [==============================] - 0s 2ms/step - loss: 16.7425\n",
      "Epoch 3/100\n",
      "16/16 [==============================] - 0s 2ms/step - loss: 16.7547\n",
      "Epoch 4/100\n",
      "16/16 [==============================] - 0s 2ms/step - loss: 16.7157\n",
      "Epoch 5/100\n",
      "16/16 [==============================] - 0s 2ms/step - loss: 16.7508\n",
      "Epoch 6/100\n",
      "16/16 [==============================] - 0s 2ms/step - loss: 16.7248\n",
      "Epoch 7/100\n",
      "16/16 [==============================] - 0s 2ms/step - loss: 16.8125\n",
      "Epoch 8/100\n",
      "16/16 [==============================] - 0s 3ms/step - loss: 16.7427\n",
      "Epoch 9/100\n",
      "16/16 [==============================] - 0s 2ms/step - loss: 16.7324\n",
      "Epoch 10/100\n",
      "16/16 [==============================] - 0s 2ms/step - loss: 16.7744\n",
      "Epoch 11/100\n",
      "16/16 [==============================] - 0s 2ms/step - loss: 16.7156\n",
      "Epoch 12/100\n",
      "16/16 [==============================] - 0s 2ms/step - loss: 16.7257\n",
      "Epoch 13/100\n",
      "16/16 [==============================] - 0s 2ms/step - loss: 16.7555\n",
      "Epoch 14/100\n",
      "16/16 [==============================] - 0s 2ms/step - loss: 16.7338\n",
      "Epoch 15/100\n",
      "16/16 [==============================] - 0s 2ms/step - loss: 16.7482\n",
      "Epoch 16/100\n",
      "16/16 [==============================] - 0s 2ms/step - loss: 16.7544\n",
      "Epoch 17/100\n",
      "16/16 [==============================] - 0s 2ms/step - loss: 16.6982\n",
      "Epoch 18/100\n",
      "16/16 [==============================] - 0s 2ms/step - loss: 16.7957\n",
      "Epoch 19/100\n",
      "16/16 [==============================] - 0s 1ms/step - loss: 16.7840\n",
      "Epoch 20/100\n",
      "16/16 [==============================] - 0s 2ms/step - loss: 16.7907\n",
      "Epoch 21/100\n",
      "16/16 [==============================] - 0s 1ms/step - loss: 16.7205\n",
      "Epoch 22/100\n",
      "16/16 [==============================] - 0s 1ms/step - loss: 16.7845\n",
      "Epoch 23/100\n",
      "16/16 [==============================] - 0s 2ms/step - loss: 16.7020\n",
      "Epoch 24/100\n",
      "16/16 [==============================] - 0s 2ms/step - loss: 16.7451\n",
      "Epoch 25/100\n",
      "16/16 [==============================] - 0s 2ms/step - loss: 16.7392\n",
      "Epoch 26/100\n",
      "16/16 [==============================] - 0s 1ms/step - loss: 16.7167\n",
      "Epoch 27/100\n",
      "16/16 [==============================] - 0s 2ms/step - loss: 16.7277\n",
      "Epoch 28/100\n",
      "16/16 [==============================] - 0s 2ms/step - loss: 16.7167\n",
      "Epoch 29/100\n",
      "16/16 [==============================] - 0s 1ms/step - loss: 16.7212\n",
      "Epoch 30/100\n",
      "16/16 [==============================] - ETA: 0s - loss: 17.25 - 0s 1ms/step - loss: 16.7224\n",
      "Epoch 31/100\n",
      "16/16 [==============================] - 0s 2ms/step - loss: 16.8256\n",
      "Epoch 32/100\n",
      "16/16 [==============================] - 0s 2ms/step - loss: 16.7444\n",
      "Epoch 33/100\n",
      "16/16 [==============================] - 0s 2ms/step - loss: 16.7502\n",
      "Epoch 34/100\n",
      "16/16 [==============================] - 0s 2ms/step - loss: 16.7302\n",
      "Epoch 35/100\n",
      "16/16 [==============================] - 0s 1ms/step - loss: 16.7148\n",
      "Epoch 36/100\n",
      "16/16 [==============================] - 0s 2ms/step - loss: 16.7269\n",
      "Epoch 37/100\n",
      "16/16 [==============================] - 0s 2ms/step - loss: 16.7319\n",
      "Epoch 38/100\n",
      "16/16 [==============================] - 0s 2ms/step - loss: 16.7317\n",
      "Epoch 39/100\n",
      "16/16 [==============================] - 0s 2ms/step - loss: 16.8166\n",
      "Epoch 40/100\n",
      "16/16 [==============================] - 0s 2ms/step - loss: 16.7784\n",
      "Epoch 41/100\n",
      "16/16 [==============================] - ETA: 0s - loss: 16.53 - 0s 2ms/step - loss: 16.7980\n",
      "Epoch 42/100\n",
      "16/16 [==============================] - 0s 2ms/step - loss: 16.7810\n",
      "Epoch 43/100\n",
      "16/16 [==============================] - 0s 2ms/step - loss: 16.7250\n",
      "Epoch 44/100\n",
      "16/16 [==============================] - 0s 2ms/step - loss: 16.7368\n",
      "Epoch 45/100\n",
      "16/16 [==============================] - 0s 1ms/step - loss: 16.7396\n",
      "Epoch 46/100\n",
      "16/16 [==============================] - 0s 2ms/step - loss: 16.7647\n",
      "Epoch 47/100\n",
      "16/16 [==============================] - 0s 2ms/step - loss: 16.7273\n",
      "Epoch 48/100\n",
      "16/16 [==============================] - 0s 2ms/step - loss: 16.7506\n",
      "Epoch 49/100\n",
      "16/16 [==============================] - 0s 2ms/step - loss: 16.7893\n",
      "Epoch 50/100\n",
      "16/16 [==============================] - 0s 2ms/step - loss: 16.7225\n",
      "Epoch 51/100\n",
      "16/16 [==============================] - 0s 2ms/step - loss: 16.7654\n",
      "Epoch 52/100\n",
      "16/16 [==============================] - 0s 2ms/step - loss: 16.7037\n",
      "Epoch 53/100\n",
      "16/16 [==============================] - 0s 1ms/step - loss: 16.6927\n",
      "Epoch 54/100\n",
      "16/16 [==============================] - 0s 1ms/step - loss: 16.8071\n",
      "Epoch 55/100\n",
      "16/16 [==============================] - 0s 2ms/step - loss: 16.8742\n",
      "Epoch 56/100\n",
      "16/16 [==============================] - 0s 2ms/step - loss: 16.7261\n",
      "Epoch 57/100\n",
      "16/16 [==============================] - 0s 2ms/step - loss: 16.6877\n",
      "Epoch 58/100\n",
      "16/16 [==============================] - 0s 2ms/step - loss: 16.7127\n",
      "Epoch 59/100\n",
      "16/16 [==============================] - 0s 2ms/step - loss: 16.7094\n",
      "Epoch 60/100\n",
      "16/16 [==============================] - 0s 2ms/step - loss: 16.7294\n",
      "Epoch 61/100\n",
      "16/16 [==============================] - 0s 2ms/step - loss: 16.7461\n",
      "Epoch 62/100\n",
      "16/16 [==============================] - 0s 2ms/step - loss: 16.6895\n",
      "Epoch 63/100\n",
      "16/16 [==============================] - 0s 2ms/step - loss: 16.7171\n",
      "Epoch 64/100\n",
      "16/16 [==============================] - 0s 2ms/step - loss: 16.7715\n",
      "Epoch 65/100\n",
      "16/16 [==============================] - 0s 2ms/step - loss: 16.8120\n",
      "Epoch 66/100\n",
      "16/16 [==============================] - 0s 2ms/step - loss: 16.7354\n",
      "Epoch 67/100\n",
      "16/16 [==============================] - 0s 2ms/step - loss: 16.7133\n",
      "Epoch 68/100\n",
      "16/16 [==============================] - 0s 1ms/step - loss: 16.7121\n",
      "Epoch 69/100\n",
      "16/16 [==============================] - 0s 2ms/step - loss: 16.7091\n",
      "Epoch 70/100\n",
      "16/16 [==============================] - 0s 2ms/step - loss: 16.7040\n",
      "Epoch 71/100\n",
      "16/16 [==============================] - 0s 2ms/step - loss: 16.6823\n",
      "Epoch 72/100\n",
      "16/16 [==============================] - 0s 2ms/step - loss: 16.8054\n",
      "Epoch 73/100\n",
      "16/16 [==============================] - 0s 2ms/step - loss: 16.6958\n",
      "Epoch 74/100\n",
      "16/16 [==============================] - 0s 1ms/step - loss: 16.7188\n",
      "Epoch 75/100\n",
      "16/16 [==============================] - 0s 1ms/step - loss: 16.7296\n",
      "Epoch 76/100\n",
      "16/16 [==============================] - 0s 2ms/step - loss: 16.7062\n",
      "Epoch 77/100\n",
      "16/16 [==============================] - 0s 2ms/step - loss: 16.8226\n",
      "Epoch 78/100\n",
      "16/16 [==============================] - 0s 1ms/step - loss: 16.7591\n",
      "Epoch 79/100\n",
      "16/16 [==============================] - 0s 2ms/step - loss: 16.7115\n",
      "Epoch 80/100\n",
      "16/16 [==============================] - 0s 1ms/step - loss: 16.7721\n",
      "Epoch 81/100\n",
      "16/16 [==============================] - 0s 1ms/step - loss: 16.7011\n",
      "Epoch 82/100\n",
      "16/16 [==============================] - 0s 2ms/step - loss: 16.7512\n",
      "Epoch 83/100\n",
      "16/16 [==============================] - 0s 2ms/step - loss: 16.7773\n",
      "Epoch 84/100\n",
      "16/16 [==============================] - 0s 2ms/step - loss: 16.7035\n",
      "Epoch 85/100\n",
      "16/16 [==============================] - ETA: 0s - loss: 16.76 - 0s 2ms/step - loss: 16.6895\n",
      "Epoch 86/100\n",
      "16/16 [==============================] - 0s 2ms/step - loss: 16.7036\n",
      "Epoch 87/100\n",
      "16/16 [==============================] - 0s 2ms/step - loss: 16.6957\n",
      "Epoch 88/100\n",
      "16/16 [==============================] - 0s 2ms/step - loss: 16.7152\n",
      "Epoch 89/100\n",
      "16/16 [==============================] - 0s 2ms/step - loss: 16.7981\n",
      "Epoch 90/100\n",
      "16/16 [==============================] - 0s 1ms/step - loss: 16.7534\n",
      "Epoch 91/100\n",
      "16/16 [==============================] - 0s 1ms/step - loss: 16.7591\n",
      "Epoch 92/100\n",
      "16/16 [==============================] - 0s 2ms/step - loss: 16.6667\n",
      "Epoch 93/100\n",
      "16/16 [==============================] - 0s 2ms/step - loss: 16.7549\n",
      "Epoch 94/100\n",
      "16/16 [==============================] - 0s 2ms/step - loss: 16.7180\n",
      "Epoch 95/100\n",
      "16/16 [==============================] - 0s 2ms/step - loss: 16.7237\n",
      "Epoch 96/100\n",
      "16/16 [==============================] - 0s 2ms/step - loss: 16.7271\n",
      "Epoch 97/100\n",
      "16/16 [==============================] - 0s 1ms/step - loss: 16.7256\n",
      "Epoch 98/100\n",
      "16/16 [==============================] - 0s 2ms/step - loss: 16.7265\n",
      "Epoch 99/100\n",
      "16/16 [==============================] - 0s 2ms/step - loss: 16.7374\n",
      "Epoch 100/100\n"
     ]
    },
    {
     "name": "stdout",
     "output_type": "stream",
     "text": [
      " 1/16 [>.............................] - ETA: 0s - loss: 20.8315\b\b\b\b\b\b\b\b\b\b\b\b\b\b\b\b\b\b\b\b\b\b\b\b\b\b\b\b\b\b\b\b\b\b\b\b\b\b\b\b\b\b\b\b\b\b\b\b\b\b\b\b\b\b\b\b\b\b\b\b\b\b\b\b\r",
      "16/16 [==============================] - 0s 1ms/step - loss: 16.7272\n"
     ]
    },
    {
     "data": {
      "text/plain": [
       "<tensorflow.python.keras.callbacks.History at 0x115d6c04f70>"
      ]
     },
     "execution_count": 18,
     "metadata": {},
     "output_type": "execute_result"
    }
   ],
   "source": [
    "# fit the data using the training sub-dataframes\n",
    "model.fit(data['speed'], data['power'], epochs=100)"
   ]
  },
  {
   "cell_type": "code",
   "execution_count": 17,
   "metadata": {},
   "outputs": [
    {
     "data": {
      "image/png": "[encoded data removed]",
      "text/plain": [
       "<Figure size 1008x576 with 1 Axes>"
      ]
     },
     "metadata": {
      "needs_background": "light"
     },
     "output_type": "display_data"
    }
   ],
   "source": [
    "plt.plot(data['speed'], data['power'], 'c.', label='actual')\n",
    "plt.plot(data['speed'], model.predict(data['power']), 'm.', label='prediction')\n",
    "plt.legend();"
   ]
  },
  {
   "cell_type": "code",
   "execution_count": 19,
   "metadata": {},
   "outputs": [
    {
     "name": "stdout",
     "output_type": "stream",
     "text": [
      "4/4 [==============================] - 1s 3ms/step - loss: 15.3964\n"
     ]
    },
    {
     "data": {
      "text/plain": [
       "15.396413803100586"
      ]
     },
     "execution_count": 19,
     "metadata": {},
     "output_type": "execute_result"
    }
   ],
   "source": [
    "# Evaluate the neural network on the test data.\n",
    "model.evaluate(x_test, y_test)"
   ]
  },
  {
   "cell_type": "code",
   "execution_count": null,
   "metadata": {},
   "outputs": [],
   "source": []
  }
 ],
 "metadata": {
  "kernelspec": {
   "display_name": "Python 3",
   "language": "python",
   "name": "python3"
  },
  "language_info": {
   "codemirror_mode": {
    "name": "ipython",
    "version": 3
   },
   "file_extension": ".py",
   "mimetype": "text/x-python",
   "name": "python",
   "nbconvert_exporter": "python",
   "pygments_lexer": "ipython3",
   "version": "3.8.5"
  }
 },
 "nbformat": 4,
 "nbformat_minor": 4
}
